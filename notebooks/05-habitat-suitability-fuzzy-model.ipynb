{
 "cells": [
  {
   "cell_type": "code",
   "execution_count": null,
   "metadata": {},
   "outputs": [],
   "source": [
    "%store -r data_dir\n",
    "%store -r sheyenne_grasslands_gdf caddo_grasslands_gdf\n",
    "%store -r sheyenne_soil_ph_da caddo_soil_ph_da\n",
    "%store -r sheyenne_aspect_da caddo_aspect_da\n",
    "%store -r sheyenne_45_annual_precip_da sheyenne_85_annual_precip_da\n",
    "%store -r caddo_45_annual_precip_da caddo_85_annual_precip_da"
   ]
  },
  {
   "cell_type": "markdown",
   "metadata": {},
   "source": [
    "### Create a Fuzzy Model to determine habitate suitability for *S. nutans* in the Sheyenne and Caddo National Grasslands from 2076-2080 depending on rcp value."
   ]
  },
  {
   "cell_type": "code",
   "execution_count": null,
   "metadata": {},
   "outputs": [],
   "source": [
    "# Possible imports\n",
    "# import numpy as np\n",
    "# import skfuzzy as fuzz\n",
    "# import xarray as xr\n",
    "# import matplotlib.pyplot as plt"
   ]
  },
  {
   "cell_type": "code",
   "execution_count": null,
   "metadata": {},
   "outputs": [],
   "source": [
    "# Assign values between 0 and 1 corresponding with suitability thresholds\n",
    "# for the different variables (soil pH, aspect, and average annual precipitation).\n",
    "\n",
    "# For example, S. nutans prefers soil with a pH range from 4.8 to 8.0.\n",
    "# Possible thresholds and corresponding 0-1 values:\n",
    "# Soil pH from 6-7 = 1\n",
    "# Soil pH froom 5.5 to 6 and 7 to 7.5 = .75\n",
    "# Soil pH from 4.8 to 5.5 and 7.5 to 8 = .5\n",
    "# Soil ph below 4.8 and above 8 = 0"
   ]
  },
  {
   "cell_type": "code",
   "execution_count": null,
   "metadata": {},
   "outputs": [],
   "source": [
    "# Use fuzzification to change the values of the DataArrays to\n",
    "# belong to the different 0-1 values instead of soil pH, aspect, and annual average precipitation."
   ]
  },
  {
   "cell_type": "code",
   "execution_count": null,
   "metadata": {},
   "outputs": [],
   "source": [
    "# Use raster mutliplication and multiply the DataArrays together to determine whether\n",
    "# parts or all of the Sheyenne and Caddo National Grasslands would be suitable \n",
    "# for S. nutans in 2076-2080 depending on whether the rcp value is 4.5 or 8.5."
   ]
  }
 ],
 "metadata": {
  "kernelspec": {
   "display_name": "earth-analytics-python",
   "language": "python",
   "name": "python3"
  },
  "language_info": {
   "name": "python",
   "version": "3.11.10"
  }
 },
 "nbformat": 4,
 "nbformat_minor": 2
}
