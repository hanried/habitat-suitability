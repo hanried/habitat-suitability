{
 "cells": [
  {
   "cell_type": "code",
   "execution_count": 1,
   "metadata": {},
   "outputs": [],
   "source": [
    "%store -r sheyenne_grasslands_gdf caddo_grasslands_gdf data_dir"
   ]
  },
  {
   "cell_type": "code",
   "execution_count": 2,
   "metadata": {},
   "outputs": [],
   "source": [
    "# Import necessary packages\n",
    "import os\n",
    "import pathlib\n",
    "from glob import glob\n",
    "\n",
    "import pandas as pd # Aggregating and data manipulation\n",
    "import matplotlib.pyplot as plt # Overlay pandas and xarray plots\n",
    "import rioxarray as rxr # Work with raster data\n",
    "import xarray as xr"
   ]
  },
  {
   "cell_type": "markdown",
   "metadata": {},
   "source": [
    "## Load in climate data\n",
    "\n",
    "For each grassland: Download one climate variable from the MACAv2 THREDDS data server as raster data.\n",
    "\n",
    "MACA v2 model: CanESM2\n",
    "* Climate variable: precipitation\n",
    "* Emissions scenarios being compared: rcp4.5 and rcp8.5\n",
    "* Time period: 2076 - 2080\n",
    "* Monthly predictions"
   ]
  },
  {
   "cell_type": "code",
   "execution_count": 3,
   "metadata": {},
   "outputs": [],
   "source": [
    "# # Make MACA data directory\n",
    "# maca_85_dir = os.path.join(data_dir, 'maca-85')\n",
    "# os.makedirs(maca_85_dir, exist_ok=True)\n",
    "# maca_85_dir\n",
    "\n",
    "# maca_85_path = os.path.join(maca_85_dir, '.*nc')\n",
    "\n",
    "# # Only download once\n",
    "# if not os.path.exists(maca_85_path):\n",
    "#     maca_85_ds = xr.open_dataset(maca_85_url)\n",
    "#     maca_85_ds.to_netcdf(maca_85_path)"
   ]
  },
  {
   "cell_type": "code",
   "execution_count": 4,
   "metadata": {},
   "outputs": [
    {
     "data": {
      "text/html": [
       "<div>\n",
       "<style scoped>\n",
       "    .dataframe tbody tr th:only-of-type {\n",
       "        vertical-align: middle;\n",
       "    }\n",
       "\n",
       "    .dataframe tbody tr th {\n",
       "        vertical-align: top;\n",
       "    }\n",
       "\n",
       "    .dataframe thead th {\n",
       "        text-align: right;\n",
       "    }\n",
       "</style>\n",
       "<table border=\"1\" class=\"dataframe\">\n",
       "  <thead>\n",
       "    <tr style=\"text-align: right;\">\n",
       "      <th></th>\n",
       "      <th>site_name</th>\n",
       "      <th>rcp_value</th>\n",
       "      <th>da</th>\n",
       "    </tr>\n",
       "  </thead>\n",
       "  <tbody>\n",
       "    <tr>\n",
       "      <th>0</th>\n",
       "      <td>Sheyenne Grasslands</td>\n",
       "      <td>rcp85</td>\n",
       "      <td>[[[&lt;xarray.DataArray 'precipitation' ()&gt; Size:...</td>\n",
       "    </tr>\n",
       "    <tr>\n",
       "      <th>1</th>\n",
       "      <td>Sheyenne Grasslands</td>\n",
       "      <td>rcp45</td>\n",
       "      <td>[[[&lt;xarray.DataArray 'precipitation' ()&gt; Size:...</td>\n",
       "    </tr>\n",
       "    <tr>\n",
       "      <th>2</th>\n",
       "      <td>Caddo Grasslands</td>\n",
       "      <td>rcp85</td>\n",
       "      <td>[[[&lt;xarray.DataArray 'precipitation' ()&gt; Size:...</td>\n",
       "    </tr>\n",
       "    <tr>\n",
       "      <th>3</th>\n",
       "      <td>Caddo Grasslands</td>\n",
       "      <td>rcp45</td>\n",
       "      <td>[[[&lt;xarray.DataArray 'precipitation' ()&gt; Size:...</td>\n",
       "    </tr>\n",
       "  </tbody>\n",
       "</table>\n",
       "</div>"
      ],
      "text/plain": [
       "             site_name rcp_value  \\\n",
       "0  Sheyenne Grasslands     rcp85   \n",
       "1  Sheyenne Grasslands     rcp45   \n",
       "2     Caddo Grasslands     rcp85   \n",
       "3     Caddo Grasslands     rcp45   \n",
       "\n",
       "                                                  da  \n",
       "0  [[[<xarray.DataArray 'precipitation' ()> Size:...  \n",
       "1  [[[<xarray.DataArray 'precipitation' ()> Size:...  \n",
       "2  [[[<xarray.DataArray 'precipitation' ()> Size:...  \n",
       "3  [[[<xarray.DataArray 'precipitation' ()> Size:...  "
      ]
     },
     "execution_count": 4,
     "metadata": {},
     "output_type": "execute_result"
    }
   ],
   "source": [
    "# Define function to convert longitude/latitude\n",
    "def convert_longitude(longitude):\n",
    "    \"\"\"Convert longitude range from 0-360 t0 -180-180\"\"\"\n",
    "    return (longitude - 360) if longitude > 180 else longitude\n",
    "\n",
    "maca_da_list = []\n",
    "for site_name, site_gdf in {\n",
    "    'Sheyenne Grasslands': sheyenne_grasslands_gdf,\n",
    "    'Caddo Grasslands': caddo_grasslands_gdf}.items():\n",
    "    for rcp_value in ['rcp85', 'rcp45']:\n",
    "        # Define url\n",
    "        maca_url = (\n",
    "            'http://thredds.northwestknowledge.net:8080/thredds/dodsC'\n",
    "            '/MACAV2/CanESM2'\n",
    "            '/macav2metdata_pr_CanESM2_r1i1p1'\n",
    "            f'_{rcp_value}'\n",
    "            '_2076_2080_CONUS'\n",
    "            '_monthly.nc')\n",
    "\n",
    "        # Squeeze Dataset\n",
    "        maca_da = xr.open_dataset(maca_url).squeeze().precipitation\n",
    "\n",
    "        # Define bounds\n",
    "        bounds_maca = (site_gdf\n",
    "                        .to_crs(maca_da.rio.crs)\n",
    "                        .total_bounds)\n",
    "\n",
    "        # Change maca_ds longitude values to match the grasslands gdfs\n",
    "        maca_da = maca_da.assign_coords(\n",
    "            lon=(\"lon\", [convert_longitude(l) for l in maca_da.lon.values]))\n",
    "\n",
    "        # Set spatial dimensions of maca_da\n",
    "        maca_da = maca_da.rio.set_spatial_dims(x_dim='lon', y_dim='lat')\n",
    "\n",
    "        # Crop maca_da\n",
    "        maca_da = maca_da.rio.clip_box(*bounds_maca)\n",
    "        maca_da_list.append(dict(\n",
    "            site_name=site_name,\n",
    "            rcp_value=rcp_value,\n",
    "            da=maca_da))\n",
    "\n",
    "maca_df = pd.DataFrame(maca_da_list)\n",
    "maca_df"
   ]
  },
  {
   "cell_type": "code",
   "execution_count": 5,
   "metadata": {},
   "outputs": [
    {
     "data": {
      "text/plain": [
       "{'site_name': 'Sheyenne Grasslands',\n",
       " 'rcp_value': 'rcp85',\n",
       " 'da': <xarray.DataArray 'precipitation' (time: 60, lat: 12, lon: 14)> Size: 40kB\n",
       " [10080 values with dtype=float32]\n",
       " Coordinates:\n",
       "   * lat      (lat) float64 96B 46.1 46.15 46.19 46.23 ... 46.48 46.52 46.56\n",
       "   * time     (time) object 480B 2076-01-15 00:00:00 ... 2080-12-15 00:00:00\n",
       "   * lon      (lon) float64 112B -97.48 -97.44 -97.4 ... -97.02 -96.98 -96.94\n",
       "     crs      int64 8B 0\n",
       " Attributes:\n",
       "     long_name:      Monthly Precipitation Amount\n",
       "     units:          mm\n",
       "     standard_name:  precipitation\n",
       "     cell_methods:   time: sum(interval: 24 hours): sum over days\n",
       "     comments:       Total monthly precipitation at surface: includes both liq...\n",
       "     _ChunkSizes:    [ 10  44 107]}"
      ]
     },
     "execution_count": 5,
     "metadata": {},
     "output_type": "execute_result"
    }
   ],
   "source": [
    "maca_da_list[0]"
   ]
  }
 ],
 "metadata": {
  "kernelspec": {
   "display_name": "earth-analytics-python",
   "language": "python",
   "name": "python3"
  },
  "language_info": {
   "codemirror_mode": {
    "name": "ipython",
    "version": 3
   },
   "file_extension": ".py",
   "mimetype": "text/x-python",
   "name": "python",
   "nbconvert_exporter": "python",
   "pygments_lexer": "ipython3",
   "version": "3.11.10"
  }
 },
 "nbformat": 4,
 "nbformat_minor": 2
}
