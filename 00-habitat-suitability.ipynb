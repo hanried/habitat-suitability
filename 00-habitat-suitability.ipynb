{
 "cells": [
  {
   "cell_type": "code",
   "execution_count": 1,
   "metadata": {},
   "outputs": [],
   "source": [
    "# Import necessary packages\n",
    "import os\n",
    "import pathlib\n",
    "import re # Parsing info out of file names\n",
    "\n",
    "import earthaccess # Access NASA data from the cloud\n",
    "import geopandas as gpd # Working with vector data\n",
    "import pandas as pd # Aggregating and data manipulation\n",
    "import rioxarray as rxr # Work with raster data"
   ]
  },
  {
   "cell_type": "code",
   "execution_count": 2,
   "metadata": {},
   "outputs": [
    {
     "data": {
      "text/plain": [
       "'C:\\\\Users\\\\riede\\\\earth-analytics\\\\data\\\\habitat-suitability'"
      ]
     },
     "execution_count": 2,
     "metadata": {},
     "output_type": "execute_result"
    }
   ],
   "source": [
    "# Set up a project data directory\n",
    "data_dir = os.path.join(\n",
    "    pathlib.Path.home(),\n",
    "    'earth-analytics',\n",
    "    'data',\n",
    "    'habitat-suitability'\n",
    ")\n",
    "\n",
    "os.makedirs(data_dir, exist_ok=True)\n",
    "\n",
    "data_dir"
   ]
  },
  {
   "cell_type": "markdown",
   "metadata": {},
   "source": [
    "## Define study area:\n",
    "\n",
    "* Download the USFS National Grassland Units\n",
    "\n",
    "* Select study sites: Caddo National Grassland and Sheyenne National Grassland"
   ]
  },
  {
   "cell_type": "code",
   "execution_count": 5,
   "metadata": {},
   "outputs": [
    {
     "data": {
      "text/html": [
       "<div>\n",
       "<style scoped>\n",
       "    .dataframe tbody tr th:only-of-type {\n",
       "        vertical-align: middle;\n",
       "    }\n",
       "\n",
       "    .dataframe tbody tr th {\n",
       "        vertical-align: top;\n",
       "    }\n",
       "\n",
       "    .dataframe thead th {\n",
       "        text-align: right;\n",
       "    }\n",
       "</style>\n",
       "<table border=\"1\" class=\"dataframe\">\n",
       "  <thead>\n",
       "    <tr style=\"text-align: right;\">\n",
       "      <th></th>\n",
       "      <th>OBJECTID</th>\n",
       "      <th>NATIONALGR</th>\n",
       "      <th>GRASSLANDN</th>\n",
       "      <th>GIS_ACRES</th>\n",
       "      <th>SHAPE.AREA</th>\n",
       "      <th>SHAPE.LEN</th>\n",
       "      <th>geometry</th>\n",
       "    </tr>\n",
       "  </thead>\n",
       "  <tbody>\n",
       "    <tr>\n",
       "      <th>0</th>\n",
       "      <td>187245</td>\n",
       "      <td>281771010328</td>\n",
       "      <td>Fort Pierre National Grassland</td>\n",
       "      <td>209044.225</td>\n",
       "      <td>0.095149</td>\n",
       "      <td>1.455518</td>\n",
       "      <td>POLYGON ((-100.0841 44.28163, -100.0841 44.278...</td>\n",
       "    </tr>\n",
       "    <tr>\n",
       "      <th>1</th>\n",
       "      <td>187246</td>\n",
       "      <td>295507010328</td>\n",
       "      <td>Butte Valley National Grassland</td>\n",
       "      <td>19489.170</td>\n",
       "      <td>0.008557</td>\n",
       "      <td>0.853736</td>\n",
       "      <td>MULTIPOLYGON (((-121.99601 41.84049, -121.9960...</td>\n",
       "    </tr>\n",
       "    <tr>\n",
       "      <th>2</th>\n",
       "      <td>187247</td>\n",
       "      <td>295508010328</td>\n",
       "      <td>Kiowa National Grassland</td>\n",
       "      <td>144281.321</td>\n",
       "      <td>0.058543</td>\n",
       "      <td>9.858642</td>\n",
       "      <td>MULTIPOLYGON (((-104.30415 36.08063, -104.3041...</td>\n",
       "    </tr>\n",
       "    <tr>\n",
       "      <th>3</th>\n",
       "      <td>187248</td>\n",
       "      <td>295509010328</td>\n",
       "      <td>Sheyenne National Grassland</td>\n",
       "      <td>70428.175</td>\n",
       "      <td>0.033356</td>\n",
       "      <td>4.097398</td>\n",
       "      <td>MULTIPOLYGON (((-97.31082 46.51457, -97.3056 4...</td>\n",
       "    </tr>\n",
       "    <tr>\n",
       "      <th>4</th>\n",
       "      <td>187249</td>\n",
       "      <td>295510010328</td>\n",
       "      <td>Cedar River National Grassland</td>\n",
       "      <td>6717.517</td>\n",
       "      <td>0.003157</td>\n",
       "      <td>0.999947</td>\n",
       "      <td>MULTIPOLYGON (((-101.82222 45.95897, -101.8170...</td>\n",
       "    </tr>\n",
       "    <tr>\n",
       "      <th>5</th>\n",
       "      <td>187250</td>\n",
       "      <td>295511010328</td>\n",
       "      <td>Black Kettle National Grassland</td>\n",
       "      <td>33103.349</td>\n",
       "      <td>0.013340</td>\n",
       "      <td>4.561060</td>\n",
       "      <td>MULTIPOLYGON (((-99.9166 35.71892, -99.91662 3...</td>\n",
       "    </tr>\n",
       "    <tr>\n",
       "      <th>6</th>\n",
       "      <td>187251</td>\n",
       "      <td>295512010328</td>\n",
       "      <td>Rita Blanca National Grassland</td>\n",
       "      <td>94127.091</td>\n",
       "      <td>0.038271</td>\n",
       "      <td>6.652113</td>\n",
       "      <td>MULTIPOLYGON (((-102.62994 36.44073, -102.6298...</td>\n",
       "    </tr>\n",
       "    <tr>\n",
       "      <th>7</th>\n",
       "      <td>187252</td>\n",
       "      <td>295513010328</td>\n",
       "      <td>Thunder Basin National Grassland</td>\n",
       "      <td>626249.208</td>\n",
       "      <td>0.282888</td>\n",
       "      <td>44.088050</td>\n",
       "      <td>MULTIPOLYGON (((-105.46006 43.31909, -105.4601...</td>\n",
       "    </tr>\n",
       "    <tr>\n",
       "      <th>8</th>\n",
       "      <td>187253</td>\n",
       "      <td>295514010328</td>\n",
       "      <td>McClellan Creek National Grassland</td>\n",
       "      <td>1401.715</td>\n",
       "      <td>0.000562</td>\n",
       "      <td>0.115902</td>\n",
       "      <td>POLYGON ((-100.86004 35.20951, -100.86009 35.2...</td>\n",
       "    </tr>\n",
       "    <tr>\n",
       "      <th>9</th>\n",
       "      <td>187254</td>\n",
       "      <td>295515010328</td>\n",
       "      <td>Caddo National Grassland</td>\n",
       "      <td>68479.549</td>\n",
       "      <td>0.026940</td>\n",
       "      <td>1.159342</td>\n",
       "      <td>MULTIPOLYGON (((-95.85493 33.79814, -95.85495 ...</td>\n",
       "    </tr>\n",
       "    <tr>\n",
       "      <th>10</th>\n",
       "      <td>187255</td>\n",
       "      <td>295516010328</td>\n",
       "      <td>Lyndon B. Johnson National Grassland</td>\n",
       "      <td>115408.461</td>\n",
       "      <td>0.045238</td>\n",
       "      <td>1.177130</td>\n",
       "      <td>POLYGON ((-97.67965 33.43397, -97.67952 33.433...</td>\n",
       "    </tr>\n",
       "    <tr>\n",
       "      <th>11</th>\n",
       "      <td>187256</td>\n",
       "      <td>295517010328</td>\n",
       "      <td>Grand River National Grassland</td>\n",
       "      <td>154665.301</td>\n",
       "      <td>0.072336</td>\n",
       "      <td>9.796405</td>\n",
       "      <td>MULTIPOLYGON (((-102.08143 45.68619, -102.0814...</td>\n",
       "    </tr>\n",
       "    <tr>\n",
       "      <th>12</th>\n",
       "      <td>187257</td>\n",
       "      <td>295518010328</td>\n",
       "      <td>Buffalo Gap National Grassland</td>\n",
       "      <td>654877.177</td>\n",
       "      <td>0.295196</td>\n",
       "      <td>33.006274</td>\n",
       "      <td>MULTIPOLYGON (((-102.3384 43.93679, -102.3384 ...</td>\n",
       "    </tr>\n",
       "    <tr>\n",
       "      <th>13</th>\n",
       "      <td>187258</td>\n",
       "      <td>295519010328</td>\n",
       "      <td>Crooked River National Grassland</td>\n",
       "      <td>173593.026</td>\n",
       "      <td>0.079499</td>\n",
       "      <td>2.815873</td>\n",
       "      <td>POLYGON ((-120.98026 44.72935, -120.98032 44.7...</td>\n",
       "    </tr>\n",
       "    <tr>\n",
       "      <th>14</th>\n",
       "      <td>187259</td>\n",
       "      <td>295520010328</td>\n",
       "      <td>Little Missouri National Grassland</td>\n",
       "      <td>1025317.517</td>\n",
       "      <td>0.492748</td>\n",
       "      <td>60.421675</td>\n",
       "      <td>MULTIPOLYGON (((-104.01689 47.51794, -104.0115...</td>\n",
       "    </tr>\n",
       "    <tr>\n",
       "      <th>15</th>\n",
       "      <td>187260</td>\n",
       "      <td>295521010328</td>\n",
       "      <td>Oglala National Grassland</td>\n",
       "      <td>215804.927</td>\n",
       "      <td>0.096279</td>\n",
       "      <td>1.970612</td>\n",
       "      <td>POLYGON ((-103.72478 43.001, -103.72008 43.000...</td>\n",
       "    </tr>\n",
       "    <tr>\n",
       "      <th>16</th>\n",
       "      <td>187261</td>\n",
       "      <td>295522010328</td>\n",
       "      <td>Comanche National Grassland</td>\n",
       "      <td>444413.904</td>\n",
       "      <td>0.183064</td>\n",
       "      <td>26.658022</td>\n",
       "      <td>MULTIPOLYGON (((-104.02264 37.69225, -104.0225...</td>\n",
       "    </tr>\n",
       "    <tr>\n",
       "      <th>17</th>\n",
       "      <td>187262</td>\n",
       "      <td>295523010328</td>\n",
       "      <td>Pawnee National Grassland</td>\n",
       "      <td>208424.885</td>\n",
       "      <td>0.089972</td>\n",
       "      <td>15.341594</td>\n",
       "      <td>MULTIPOLYGON (((-104.58107 40.82665, -104.5810...</td>\n",
       "    </tr>\n",
       "    <tr>\n",
       "      <th>18</th>\n",
       "      <td>187263</td>\n",
       "      <td>295524010328</td>\n",
       "      <td>Cimarron National Grassland</td>\n",
       "      <td>109101.348</td>\n",
       "      <td>0.044765</td>\n",
       "      <td>5.539623</td>\n",
       "      <td>MULTIPOLYGON (((-101.98978 37.11934, -101.9852...</td>\n",
       "    </tr>\n",
       "    <tr>\n",
       "      <th>19</th>\n",
       "      <td>187264</td>\n",
       "      <td>295525010328</td>\n",
       "      <td>Curlew National Grassland</td>\n",
       "      <td>74783.572</td>\n",
       "      <td>0.032983</td>\n",
       "      <td>1.771642</td>\n",
       "      <td>MULTIPOLYGON (((-112.69951 42.24751, -112.6995...</td>\n",
       "    </tr>\n",
       "  </tbody>\n",
       "</table>\n",
       "</div>"
      ],
      "text/plain": [
       "    OBJECTID    NATIONALGR                            GRASSLANDN    GIS_ACRES  \\\n",
       "0     187245  281771010328        Fort Pierre National Grassland   209044.225   \n",
       "1     187246  295507010328       Butte Valley National Grassland    19489.170   \n",
       "2     187247  295508010328              Kiowa National Grassland   144281.321   \n",
       "3     187248  295509010328           Sheyenne National Grassland    70428.175   \n",
       "4     187249  295510010328        Cedar River National Grassland     6717.517   \n",
       "5     187250  295511010328       Black Kettle National Grassland    33103.349   \n",
       "6     187251  295512010328        Rita Blanca National Grassland    94127.091   \n",
       "7     187252  295513010328      Thunder Basin National Grassland   626249.208   \n",
       "8     187253  295514010328    McClellan Creek National Grassland     1401.715   \n",
       "9     187254  295515010328              Caddo National Grassland    68479.549   \n",
       "10    187255  295516010328  Lyndon B. Johnson National Grassland   115408.461   \n",
       "11    187256  295517010328        Grand River National Grassland   154665.301   \n",
       "12    187257  295518010328        Buffalo Gap National Grassland   654877.177   \n",
       "13    187258  295519010328      Crooked River National Grassland   173593.026   \n",
       "14    187259  295520010328    Little Missouri National Grassland  1025317.517   \n",
       "15    187260  295521010328             Oglala National Grassland   215804.927   \n",
       "16    187261  295522010328           Comanche National Grassland   444413.904   \n",
       "17    187262  295523010328             Pawnee National Grassland   208424.885   \n",
       "18    187263  295524010328           Cimarron National Grassland   109101.348   \n",
       "19    187264  295525010328             Curlew National Grassland    74783.572   \n",
       "\n",
       "    SHAPE.AREA  SHAPE.LEN                                           geometry  \n",
       "0     0.095149   1.455518  POLYGON ((-100.0841 44.28163, -100.0841 44.278...  \n",
       "1     0.008557   0.853736  MULTIPOLYGON (((-121.99601 41.84049, -121.9960...  \n",
       "2     0.058543   9.858642  MULTIPOLYGON (((-104.30415 36.08063, -104.3041...  \n",
       "3     0.033356   4.097398  MULTIPOLYGON (((-97.31082 46.51457, -97.3056 4...  \n",
       "4     0.003157   0.999947  MULTIPOLYGON (((-101.82222 45.95897, -101.8170...  \n",
       "5     0.013340   4.561060  MULTIPOLYGON (((-99.9166 35.71892, -99.91662 3...  \n",
       "6     0.038271   6.652113  MULTIPOLYGON (((-102.62994 36.44073, -102.6298...  \n",
       "7     0.282888  44.088050  MULTIPOLYGON (((-105.46006 43.31909, -105.4601...  \n",
       "8     0.000562   0.115902  POLYGON ((-100.86004 35.20951, -100.86009 35.2...  \n",
       "9     0.026940   1.159342  MULTIPOLYGON (((-95.85493 33.79814, -95.85495 ...  \n",
       "10    0.045238   1.177130  POLYGON ((-97.67965 33.43397, -97.67952 33.433...  \n",
       "11    0.072336   9.796405  MULTIPOLYGON (((-102.08143 45.68619, -102.0814...  \n",
       "12    0.295196  33.006274  MULTIPOLYGON (((-102.3384 43.93679, -102.3384 ...  \n",
       "13    0.079499   2.815873  POLYGON ((-120.98026 44.72935, -120.98032 44.7...  \n",
       "14    0.492748  60.421675  MULTIPOLYGON (((-104.01689 47.51794, -104.0115...  \n",
       "15    0.096279   1.970612  POLYGON ((-103.72478 43.001, -103.72008 43.000...  \n",
       "16    0.183064  26.658022  MULTIPOLYGON (((-104.02264 37.69225, -104.0225...  \n",
       "17    0.089972  15.341594  MULTIPOLYGON (((-104.58107 40.82665, -104.5810...  \n",
       "18    0.044765   5.539623  MULTIPOLYGON (((-101.98978 37.11934, -101.9852...  \n",
       "19    0.032983   1.771642  MULTIPOLYGON (((-112.69951 42.24751, -112.6995...  "
      ]
     },
     "metadata": {},
     "output_type": "display_data"
    },
    {
     "data": {
      "text/plain": [
       "<Axes: >"
      ]
     },
     "execution_count": 5,
     "metadata": {},
     "output_type": "execute_result"
    },
    {
     "data": {
      "image/png": "[encoded data removed]",
      "text/plain": [
       "<Figure size 640x480 with 1 Axes>"
      ]
     },
     "metadata": {},
     "output_type": "display_data"
    }
   ],
   "source": [
    "# Set up the grassland URL\n",
    "grasslands_url = (\"https://apps.fs.usda.gov/arcx/rest/services\"\n",
    "    \"/EDW/EDW_NationalGrassland_01/MapServer/0\"\n",
    "    \"/query?where=1%3D1&outFields=*&geometry=&geometry\"\n",
    "    \"Type=esriGeometryEnvelope&inSR=4326&spatialRel=esriSpatialRelIntersects&outSR=4326&f=json\")\n",
    "\n",
    "# Set up a path to save the data on your machine\n",
    "grasslands_dir = os.path.join(data_dir, 'grasslands_dir')\n",
    "\n",
    "# Make the grasslands directory\n",
    "os.makedirs(grasslands_dir, exist_ok=True)\n",
    "\n",
    "# Join grasslands shapefile path\n",
    "grasslands_path = os.path.join(grasslands_dir, 'S_USA.NationalGrassland.shp')\n",
    "\n",
    "# Only download once\n",
    "if not os.path.exists(grasslands_path):\n",
    "    grasslands_gdf = gpd.read_file(grasslands_url)\n",
    "    grasslands_gdf.to_file(grasslands_path)\n",
    "\n",
    "# Check that the URL is correct\n",
    "grasslands_gdf = gpd.read_file(grasslands_path)\n",
    "\n",
    "# Display grasslands_gdf and plot grasslands to check download\n",
    "display(grasslands_gdf)\n",
    "grasslands_gdf.plot()"
   ]
  },
  {
   "cell_type": "code",
   "execution_count": null,
   "metadata": {},
   "outputs": [],
   "source": [
    "shey_grasslands_gdf = grasslands_gdf[grasslands_gdf['GRASSLANDN']]"
   ]
  },
  {
   "cell_type": "code",
   "execution_count": null,
   "metadata": {},
   "outputs": [
    {
     "data": {
      "text/html": [
       "<div>\n",
       "<style scoped>\n",
       "    .dataframe tbody tr th:only-of-type {\n",
       "        vertical-align: middle;\n",
       "    }\n",
       "\n",
       "    .dataframe tbody tr th {\n",
       "        vertical-align: top;\n",
       "    }\n",
       "\n",
       "    .dataframe thead th {\n",
       "        text-align: right;\n",
       "    }\n",
       "</style>\n",
       "<table border=\"1\" class=\"dataframe\">\n",
       "  <thead>\n",
       "    <tr style=\"text-align: right;\">\n",
       "      <th></th>\n",
       "      <th>OBJECTID</th>\n",
       "      <th>NATIONALGR</th>\n",
       "      <th>GRASSLANDN</th>\n",
       "      <th>GIS_ACRES</th>\n",
       "      <th>SHAPE.AREA</th>\n",
       "      <th>SHAPE.LEN</th>\n",
       "      <th>geometry</th>\n",
       "    </tr>\n",
       "  </thead>\n",
       "  <tbody>\n",
       "    <tr>\n",
       "      <th>3</th>\n",
       "      <td>187248</td>\n",
       "      <td>295509010328</td>\n",
       "      <td>Sheyenne National Grassland</td>\n",
       "      <td>70428.175</td>\n",
       "      <td>0.033356</td>\n",
       "      <td>4.097398</td>\n",
       "      <td>MULTIPOLYGON (((-97.31082 46.51457, -97.3056 4...</td>\n",
       "    </tr>\n",
       "    <tr>\n",
       "      <th>9</th>\n",
       "      <td>187254</td>\n",
       "      <td>295515010328</td>\n",
       "      <td>Caddo National Grassland</td>\n",
       "      <td>68479.549</td>\n",
       "      <td>0.026940</td>\n",
       "      <td>1.159342</td>\n",
       "      <td>MULTIPOLYGON (((-95.85493 33.79814, -95.85495 ...</td>\n",
       "    </tr>\n",
       "  </tbody>\n",
       "</table>\n",
       "</div>"
      ],
      "text/plain": [
       "   OBJECTID    NATIONALGR                   GRASSLANDN  GIS_ACRES  SHAPE.AREA  \\\n",
       "3    187248  295509010328  Sheyenne National Grassland  70428.175    0.033356   \n",
       "9    187254  295515010328     Caddo National Grassland  68479.549    0.026940   \n",
       "\n",
       "   SHAPE.LEN                                           geometry  \n",
       "3   4.097398  MULTIPOLYGON (((-97.31082 46.51457, -97.3056 4...  \n",
       "9   1.159342  MULTIPOLYGON (((-95.85493 33.79814, -95.85495 ...  "
      ]
     },
     "metadata": {},
     "output_type": "display_data"
    },
    {
     "data": {
      "text/plain": [
       "<Axes: >"
      ]
     },
     "execution_count": 9,
     "metadata": {},
     "output_type": "execute_result"
    },
    {
     "data": {
      "image/png": "[encoded data removed]",
      "text/plain": [
       "<Figure size 640x480 with 1 Axes>"
      ]
     },
     "metadata": {},
     "output_type": "display_data"
    }
   ],
   "source": [
    "# Select study areas from grasslands_gdf\n",
    "shey_caddo_grasslands_gdf = grasslands_gdf[\n",
    "    grasslands_gdf['GRASSLANDN'].isin(['Sheyenne National Grassland', 'Caddo National Grassland'])]\n",
    "display(shey_caddo_grasslands_gdf)\n",
    "shey_caddo_grasslands_gdf.plot()"
   ]
  },
  {
   "cell_type": "code",
   "execution_count": null,
   "metadata": {},
   "outputs": [
    {
     "ename": "SyntaxError",
     "evalue": "incomplete input (852376419.py, line 11)",
     "output_type": "error",
     "traceback": [
      "\u001b[1;36m  Cell \u001b[1;32mIn[4], line 11\u001b[1;36m\u001b[0m\n\u001b[1;33m    # Make a plot to check that the data is what we expect\u001b[0m\n\u001b[1;37m                                                          ^\u001b[0m\n\u001b[1;31mSyntaxError\u001b[0m\u001b[1;31m:\u001b[0m incomplete input\n"
     ]
    }
   ],
   "source": [
    "#MAYBE THIS CELL ISN'T NECESSARY B/C I DID THE ABOVE?\n",
    "#  Try downloading from the URL\n",
    "# Define a path to save the study area\n",
    "# Only download once\n",
    "#if not os.path.exists(study_area_path):\n",
    "    # Download the study area\n",
    "\n",
    "    # Save the study area\n",
    "\n",
    "# Load the study area\n",
    "\n",
    "# Make a plot to check that the data is what we expect"
   ]
  },
  {
   "cell_type": "code",
   "execution_count": null,
   "metadata": {},
   "outputs": [],
   "source": [
    "# Select the study sites\n",
    "\n",
    "# Make two site maps"
   ]
  },
  {
   "cell_type": "markdown",
   "metadata": {},
   "source": [
    "## Load in soil data\n",
    "\n",
    "For each grassland:\n",
    "    Download at least one soil variable from the POLARIS dataset as raster data."
   ]
  },
  {
   "cell_type": "code",
   "execution_count": null,
   "metadata": {},
   "outputs": [],
   "source": [
    "# Define the download URL template for the soil data\n",
    "\n",
    "# List out all the soil files we will need to download\n",
    "\n",
    "output_da_list = {}\n",
    "# Loop through each of the soil files\n",
    "for ... in soil_files:\n",
    "    # Download raster data\n",
    "\n",
    "    # Unzip the raster data\n",
    "\n",
    "    # Extract metadata from the file name\n",
    "\n",
    "    # Only download once -- Save raster data to the disk\n",
    "\n",
    "    # Load the raster data into Python, mask and scale and squeeze w/ .tif files\n",
    "\n",
    "    # Make sure that the CRS matches between the vector and raster data, this could also be done up above the output_da_list is defined\n",
    "    #.to_crs(4326)\n",
    "\n",
    "    # Crop the raster data\n",
    "    cropped_da = ...\n",
    "\n",
    "    # Make a plot to check the download\n",
    "\n",
    "    output_da_list.append(cropped_da)\n",
    "\n",
    "# Merge tiles\n",
    "\n"
   ]
  },
  {
   "cell_type": "markdown",
   "metadata": {},
   "source": [
    "## Load in elevation data\n",
    "\n",
    "For each grassland: Download elevation from the SRTM as raster data."
   ]
  },
  {
   "cell_type": "code",
   "execution_count": null,
   "metadata": {},
   "outputs": [],
   "source": [
    "# Use earthaccess API"
   ]
  },
  {
   "cell_type": "markdown",
   "metadata": {},
   "source": [
    "## Load in climate data\n",
    "\n",
    "For each grassland: Download one climate variable from the MACAv2 THREDDS data server as raster data."
   ]
  },
  {
   "cell_type": "code",
   "execution_count": null,
   "metadata": {},
   "outputs": [],
   "source": []
  },
  {
   "cell_type": "markdown",
   "metadata": {},
   "source": [
    "## Derive a topographic variable\n",
    "\n",
    "For each grassland: calculate at least one derived topographic variable."
   ]
  },
  {
   "cell_type": "code",
   "execution_count": null,
   "metadata": {},
   "outputs": [],
   "source": [
    "# Make sure you're in a crs with units of meters, like UTM, not degrees"
   ]
  },
  {
   "cell_type": "markdown",
   "metadata": {},
   "source": [
    "## Harmonize data"
   ]
  },
  {
   "cell_type": "code",
   "execution_count": null,
   "metadata": {},
   "outputs": [],
   "source": [
    "# possibly use ds.rio.reproject_match() method from rioxarray"
   ]
  },
  {
   "cell_type": "markdown",
   "metadata": {},
   "source": [
    "# Build fuzzy logic model"
   ]
  },
  {
   "cell_type": "code",
   "execution_count": null,
   "metadata": {},
   "outputs": [],
   "source": []
  },
  {
   "cell_type": "markdown",
   "metadata": {},
   "source": [
    "## Create at least one figure for each grassland/climate scenario combination"
   ]
  },
  {
   "cell_type": "code",
   "execution_count": null,
   "metadata": {},
   "outputs": [
    {
     "name": "stdout",
     "output_type": "stream",
     "text": [
      "16\n"
     ]
    },
    {
     "data": {
      "text/plain": [
       "[1, 4, 9, 16]"
      ]
     },
     "execution_count": 7,
     "metadata": {},
     "output_type": "execute_result"
    }
   ],
   "source": [
    "# EXAMPLE of a for loop and accumulating the answers\n",
    "\n",
    "a_list = [1, 2, 3, 4]\n",
    "\n",
    "#w/o this accumulator list, when we run the for loop below w/o the prints, we just see 16\n",
    "squared_number_list = []\n",
    "\n",
    "for number in a_list:\n",
    "    #print(number)\n",
    "    squared_number = number**2\n",
    "    #print(squared_number)\n",
    "    squared_number_list.append(squared_number)\n",
    "\n",
    "print(squared_number)\n",
    "squared_number_list"
   ]
  }
 ],
 "metadata": {
  "kernelspec": {
   "display_name": "earth-analytics-python",
   "language": "python",
   "name": "python3"
  },
  "language_info": {
   "codemirror_mode": {
    "name": "ipython",
    "version": 3
   },
   "file_extension": ".py",
   "mimetype": "text/x-python",
   "name": "python",
   "nbconvert_exporter": "python",
   "pygments_lexer": "ipython3",
   "version": "3.11.10"
  }
 },
 "nbformat": 4,
 "nbformat_minor": 2
}
