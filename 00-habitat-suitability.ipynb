{
 "cells": [
  {
   "cell_type": "code",
   "execution_count": null,
   "metadata": {},
   "outputs": [],
   "source": [
    "# Import necessary packages\n",
    "import os\n",
    "import pathlib\n",
    "import re # Parsing info out of file names\n",
    "\n",
    "import geopandas as gpd # Working with vector data\n",
    "import pandas as pd # Aggregating and data manipulation\n",
    "import rioxarray as rxr # Work with raster data"
   ]
  },
  {
   "cell_type": "code",
   "execution_count": null,
   "metadata": {},
   "outputs": [],
   "source": [
    "# Set up a project data directory"
   ]
  },
  {
   "cell_type": "markdown",
   "metadata": {},
   "source": [
    "## Define study area:\n",
    "\n",
    "* Download the USFS National Grassland Units\n",
    "\n",
    "* Select study sites"
   ]
  },
  {
   "cell_type": "code",
   "execution_count": null,
   "metadata": {},
   "outputs": [],
   "source": [
    "# Define the download URL for the study area\n",
    "\n",
    "# Check that the URL is correct"
   ]
  },
  {
   "cell_type": "code",
   "execution_count": null,
   "metadata": {},
   "outputs": [],
   "source": [
    "# Try downloading from the URL\n",
    "# Define a path to save the study area\n",
    "# Only download once\n",
    "if not os.path.exists(study_area_path):\n",
    "    # Download the study area\n",
    "\n",
    "    # Save the study area\n",
    "\n",
    "# Load the study area\n",
    "\n",
    "# Make a plot to check that the data is what we expect"
   ]
  },
  {
   "cell_type": "code",
   "execution_count": null,
   "metadata": {},
   "outputs": [],
   "source": [
    "# Select the study sites\n",
    "\n",
    "# Make two site maps"
   ]
  },
  {
   "cell_type": "markdown",
   "metadata": {},
   "source": [
    "## Load in soil data\n",
    "\n",
    "For each grassland:\n",
    "    Download at least one soil variable from the POLARIS dataset"
   ]
  },
  {
   "cell_type": "code",
   "execution_count": null,
   "metadata": {},
   "outputs": [],
   "source": [
    "# Define the download URL template for the soil data\n",
    "\n",
    "# List out all the soil files we will need to download\n",
    "\n",
    "output_da_list = {}\n",
    "# Loop through each of the soil files\n",
    "for ... in soil_files:\n",
    "    # Download raster data\n",
    "\n",
    "    # Unzip the raster data\n",
    "\n",
    "    # Extract metadata from the file name\n",
    "\n",
    "    # Only download once -- Save raster data to the disk\n",
    "\n",
    "    # Load the raster data into Python, mask and scale and squeeze w/ .tif files\n",
    "\n",
    "    # Make sure that the CRS matches between the vector and raster data, this could also be done up above the output_da_list is defined\n",
    "    #.to_crs(4326)\n",
    "\n",
    "    # Crop the raster data\n",
    "    cropped_da = ...\n",
    "\n",
    "    # Make a plot to check the download\n",
    "\n",
    "    output_da_list.append(cropped_da)\n",
    "\n",
    "# Merge tiles\n",
    "\n"
   ]
  },
  {
   "cell_type": "markdown",
   "metadata": {},
   "source": [
    "## MORE THINGS NEED TO HAPPEN HERE"
   ]
  },
  {
   "cell_type": "code",
   "execution_count": null,
   "metadata": {},
   "outputs": [
    {
     "name": "stdout",
     "output_type": "stream",
     "text": [
      "16\n"
     ]
    },
    {
     "data": {
      "text/plain": [
       "[1, 4, 9, 16]"
      ]
     },
     "execution_count": 7,
     "metadata": {},
     "output_type": "execute_result"
    }
   ],
   "source": [
    "# EXAMPLE of a for loop and accumulating the answers\n",
    "\n",
    "a_list = [1, 2, 3, 4]\n",
    "\n",
    "#w/o this accumulator list, when we run the for loop below w/o the prints, we just see 16\n",
    "squared_number_list = []\n",
    "\n",
    "for number in a_list:\n",
    "    #print(number)\n",
    "    squared_number = number**2\n",
    "    #print(squared_number)\n",
    "    squared_number_list.append(squared_number)\n",
    "\n",
    "print(squared_number)\n",
    "squared_number_list"
   ]
  }
 ],
 "metadata": {
  "kernelspec": {
   "display_name": "earth-analytics-python",
   "language": "python",
   "name": "python3"
  },
  "language_info": {
   "codemirror_mode": {
    "name": "ipython",
    "version": 3
   },
   "file_extension": ".py",
   "mimetype": "text/x-python",
   "name": "python",
   "nbconvert_exporter": "python",
   "pygments_lexer": "ipython3",
   "version": "3.11.10"
  }
 },
 "nbformat": 4,
 "nbformat_minor": 2
}
