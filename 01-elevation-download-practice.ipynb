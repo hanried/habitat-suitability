{
 "cells": [
  {
   "cell_type": "code",
   "execution_count": 1,
   "metadata": {},
   "outputs": [
    {
     "name": "stderr",
     "output_type": "stream",
     "text": [
      "c:\\Users\\riede\\miniconda3\\envs\\earth-analytics-python\\Lib\\site-packages\\dask\\dataframe\\__init__.py:42: FutureWarning: \n",
      "Dask dataframe query planning is disabled because dask-expr is not installed.\n",
      "\n",
      "You can install it with `pip install dask[dataframe]` or `conda install dask`.\n",
      "This will raise in a future version.\n",
      "\n",
      "  warnings.warn(msg, FutureWarning)\n"
     ]
    }
   ],
   "source": [
    "import os\n",
    "import pathlib\n",
    "\n",
    "import earthaccess\n",
    "import xrspatial"
   ]
  },
  {
   "cell_type": "code",
   "execution_count": 2,
   "metadata": {},
   "outputs": [
    {
     "data": {
      "text/plain": [
       "'C:\\\\Users\\\\riede\\\\earth-analytics\\\\data\\\\habitat-suitability\\\\elevation-srtm'"
      ]
     },
     "execution_count": 2,
     "metadata": {},
     "output_type": "execute_result"
    }
   ],
   "source": [
    "# Set up a project data directory\n",
    "data_dir = os.path.join(\n",
    "    pathlib.Path.home(),\n",
    "    'earth-analytics',\n",
    "    'data',\n",
    "    'habitat-suitability'\n",
    ")\n",
    "\n",
    "elevation_dir = os.path.join(data_dir, 'elevation-srtm')\n",
    "\n",
    "os.makedirs(elevation_dir, exist_ok=True)\n",
    "\n",
    "elevation_dir"
   ]
  },
  {
   "cell_type": "code",
   "execution_count": 3,
   "metadata": {},
   "outputs": [
    {
     "data": {
      "text/plain": [
       "<earthaccess.auth.Auth at 0x1e3dbecad10>"
      ]
     },
     "execution_count": 3,
     "metadata": {},
     "output_type": "execute_result"
    }
   ],
   "source": [
    "earthaccess.login()"
   ]
  },
  {
   "cell_type": "code",
   "execution_count": null,
   "metadata": {},
   "outputs": [
    {
     "name": "stdout",
     "output_type": "stream",
     "text": [
      "NASADEM_SHHP NASADEM SRTM-only Height and Height Precision Mosaic Global 1 arc second V001\n",
      "NASADEM_SIM NASADEM SRTM Image Mosaic Global 1 arc second V001\n",
      "NASADEM_SSP NASADEM SRTM Subswath Global 1 arc second V001\n",
      "C_Pools_Fluxes_CONUS_1837 CMS: Terrestrial Carbon Stocks, Emissions, and Fluxes for Conterminous US, 2001-2016\n",
      "SRTMGL1 NASA Shuttle Radar Topography Mission Global 1 arc second V003\n",
      "GEDI01_B GEDI L1B Geolocated Waveform Data Global Footprint Level V002\n",
      "GEDI02_B GEDI L2B Canopy Cover and Vertical Profile Metrics Data Global Footprint Level V002\n",
      "NASADEM_HGT NASADEM Merged DEM Global 1 arc second V001\n",
      "SRTMGL3 NASA Shuttle Radar Topography Mission Global 3 arc second V003\n",
      "SRTMGL1_NC NASA Shuttle Radar Topography Mission Global 1 arc second NetCDF V003\n",
      "SRTMGL30 NASA Shuttle Radar Topography Mission Global 30 arc second V002\n",
      "GFSAD30EUCEARUMECE Global Food Security-support Analysis Data (GFSAD) Cropland Extent 2015 Europe, Central Asia, Russia, Middle East product 30 m V001\n",
      "GFSAD30SACE Global Food Security-support Analysis Data (GFSAD) Cropland Extent 2015 South America product 30 m V001\n",
      "GFSAD30SEACE Global Food Security-support Analysis Data (GFSAD) Cropland Extent 2015 Southeast and Northeast Asia product 30 m V001\n",
      "CMS_AGB_NW_USA_1719 Annual Aboveground Biomass Maps for Forests in the Northwestern USA, 2000-2016\n",
      "GFSAD30AFCE Global Food Security-support Analysis Data (GFSAD) Cropland Extent 2015 Africa 30 m V001\n",
      "GFSAD30SAAFGIRCE Global Food Security-support Analysis Data (GFSAD) Cropland Extent 2015 South Asia, Afghanistan, and Iran product 30 m V001\n",
      "GFSAD30NACE Global Food Security-support Analysis Data (GFSAD) Cropland Extent 2010 North America product 30 m V001\n",
      "CMS_Mangrove_Canopy_Ht_Zambezi_1357 CMS: Mangrove Canopy Height Estimates from Remote Imagery, Zambezi Delta, Mozambique\n",
      "CIESIN_SEDAC_DEDC_ACE_V2 Altimeter Corrected Elevations, Version 2 (ACE2)\n",
      "LC02_Streams_Acre_1243 LBA-ECO LC-02 Tributary Coordinates, Acre River, Tri-national River Basin: 2003-2004\n",
      "LC01_SRTM_DEM_90m_NEC_1083 LBA-ECO LC-01 SRTM 90-Meter Digital Elevation Model, Northern Ecuadorian Amazon\n",
      "LC15_SRTM_Topography_1181 LBA-ECO LC-15 SRTM30 Digital Elevation Model Data, Amazon Basin: 2000\n",
      "NASADEM_NC NASADEM Merged DEM Global 1 arc second nc V001\n",
      "NASADEM_NUMNC NASADEM Merged DEM Source Global 1 arc second nc V001\n",
      "NASADEM_SC NASADEM Slope and Curvation Global 1 arc second V001\n",
      "SRTMGL1N NASA Shuttle Radar Topography Mission Global 1 arc second number V003\n",
      "SRTMGL1_NUMNC NASA Shuttle Radar Topography Mission Global 1 arc second Number NetCDF V003\n",
      "SRTMGL3N NASA Shuttle Radar Topography Mission Global 3 arc second number V003\n",
      "SRTMGL3S NASA Shuttle Radar Topography Mission Global 3 arc second sub-sampled V003\n",
      "SRTMGL3_NC NASA Shuttle Radar Topography Mission Global 3 arc second NetCDF V003\n",
      "SRTMGL3_NUMNC NASA Shuttle Radar Topography Mission Global 3 arc second Number NetCDF V003\n",
      "SRTMIMGM NASA Shuttle Radar Topography Mission Combined Image Data Set V003\n",
      "SRTMIMGR NASA Shuttle Radar Topography Mission Swath Image Data V003\n",
      "SRTMSWBD NASA Shuttle Radar Topography Mission Water Body Data Shapefiles & Raster Files V003\n",
      "ND01_Watershed_Defor_1159 LBA-ECO ND-01 Watershed Deforestation from Landsat TM Series, Rondonia, Brazil: 1999\n"
     ]
    }
   ],
   "source": [
    "# Search earthaccess datasets for SRTM\n",
    "datasets = earthaccess.search_datasets(keyword='SRTM DEM')\n",
    "for dataset in datasets:\n",
    "    print(dataset['umm']['ShortName'], dataset['umm']['EntryTitle'])"
   ]
  },
  {
   "cell_type": "code",
   "execution_count": null,
   "metadata": {},
   "outputs": [],
   "source": [
    "# Data search\n",
    "# Out of the results above, we'll use: SRTMGL1 NASA Shuttle Radar Topography Mission Global 1 arc second V003\n",
    "srtm_results = earthaccess.search_data(\n",
    "    short_name='SRTMGL1'\n",
    ")"
   ]
  }
 ],
 "metadata": {
  "kernelspec": {
   "display_name": "earth-analytics-python",
   "language": "python",
   "name": "python3"
  },
  "language_info": {
   "codemirror_mode": {
    "name": "ipython",
    "version": 3
   },
   "file_extension": ".py",
   "mimetype": "text/x-python",
   "name": "python",
   "nbconvert_exporter": "python",
   "pygments_lexer": "ipython3",
   "version": "3.11.10"
  }
 },
 "nbformat": 4,
 "nbformat_minor": 2
}
