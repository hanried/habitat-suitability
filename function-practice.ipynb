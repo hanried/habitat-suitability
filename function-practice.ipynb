{
 "cells": [
  {
   "cell_type": "code",
   "execution_count": 7,
   "metadata": {},
   "outputs": [
    {
     "name": "stdout",
     "output_type": "stream",
     "text": [
      "louie Hello from a function roberts\n"
     ]
    }
   ],
   "source": [
    "def my_function(fname, lname):\n",
    "    print(fname, 'Hello from a function', lname)\n",
    "\n",
    "my_function('louie', 'roberts')"
   ]
  },
  {
   "cell_type": "code",
   "execution_count": 8,
   "metadata": {},
   "outputs": [
    {
     "name": "stdout",
     "output_type": "stream",
     "text": [
      "the younges thild is louie\n"
     ]
    }
   ],
   "source": [
    "def kid_functions(*kids):\n",
    "    print('the younges thild is '+ kids[-1])\n",
    "\n",
    "kid_functions(\"emma\", \"knox\", \"louie\")"
   ]
  },
  {
   "cell_type": "code",
   "execution_count": 9,
   "metadata": {},
   "outputs": [
    {
     "name": "stdout",
     "output_type": "stream",
     "text": [
      "the younges thild is louie\n"
     ]
    }
   ],
   "source": [
    "def kid_functions_2(child3, child2, child1):\n",
    "    print('the younges thild is ' + child3)\n",
    "\n",
    "kid_functions_2(child1='emma', child2='knox', child3='louie')"
   ]
  },
  {
   "cell_type": "code",
   "execution_count": 10,
   "metadata": {},
   "outputs": [
    {
     "name": "stdout",
     "output_type": "stream",
     "text": [
      "His last name is Refsnes\n"
     ]
    }
   ],
   "source": [
    "def kid_functions_3(**kid):\n",
    "    print('His last name is ' + kid['lname'])\n",
    "\n",
    "kid_functions_3(fname = 'Tobias', lname = 'Refsnes')"
   ]
  },
  {
   "cell_type": "code",
   "execution_count": 15,
   "metadata": {},
   "outputs": [],
   "source": [
    "def add_function(integer):\n",
    "    for x in integer:\n",
    "        sum = x + 10\n",
    "    return sum"
   ]
  },
  {
   "cell_type": "code",
   "execution_count": 23,
   "metadata": {},
   "outputs": [
    {
     "data": {
      "text/plain": [
       "22"
      ]
     },
     "execution_count": 23,
     "metadata": {},
     "output_type": "execute_result"
    }
   ],
   "source": [
    "add_function([12])"
   ]
  },
  {
   "cell_type": "code",
   "execution_count": 18,
   "metadata": {},
   "outputs": [
    {
     "name": "stdout",
     "output_type": "stream",
     "text": [
      "12\n"
     ]
    }
   ],
   "source": [
    "add_function([1, 2])"
   ]
  },
  {
   "cell_type": "code",
   "execution_count": 20,
   "metadata": {},
   "outputs": [
    {
     "data": {
      "text/plain": [
       "12"
      ]
     },
     "execution_count": 20,
     "metadata": {},
     "output_type": "execute_result"
    }
   ],
   "source": [
    "integer_list = [1, 2]\n",
    "\n",
    "add_function(integer_list)"
   ]
  },
  {
   "cell_type": "code",
   "execution_count": 24,
   "metadata": {},
   "outputs": [
    {
     "data": {
      "text/plain": [
       "[11, 12]"
      ]
     },
     "execution_count": 24,
     "metadata": {},
     "output_type": "execute_result"
    }
   ],
   "source": [
    "results_list = []\n",
    "for i in integer_list:\n",
    "    sums = add_function([i])\n",
    "    results_list.append(sums)\n",
    "\n",
    "results_list"
   ]
  },
  {
   "cell_type": "markdown",
   "metadata": {},
   "source": [
    "### Tried to do a loop and function to process all the grassland climate data at once:"
   ]
  },
  {
   "cell_type": "code",
   "execution_count": null,
   "metadata": {},
   "outputs": [],
   "source": [
    "results_list = []\n",
    "rcp_list = [45, 85]\n",
    "row_list = [0, 1, 2, 3]\n",
    "for rcp in rcp_list:\n",
    "    print(rcp)\n",
    "    for row in row_list:\n",
    "        print(row)\n",
    "        grassland_rcp_annual_precip_da = process_climate_da(rcp, maca_df, row)\n",
    "        print(grassland_rcp_annual_precip_da)\n",
    "        results_list.append(grassland_rcp_annual_precip_da)\n",
    "\n",
    "results_list"
   ]
  },
  {
   "cell_type": "code",
   "execution_count": 7,
   "metadata": {},
   "outputs": [
    {
     "name": "stdout",
     "output_type": "stream",
     "text": [
      "Site 1\n",
      "1\n",
      "Site 2\n",
      "4\n"
     ]
    },
    {
     "data": {
      "text/plain": [
       "{'Site 1': 1, 'Site 2': 4}"
      ]
     },
     "execution_count": 7,
     "metadata": {},
     "output_type": "execute_result"
    }
   ],
   "source": [
    "## putting results in a dictionary\n",
    "# gdfs = [site1_gdf, site2_gdf]\n",
    "# bounds_dict = {}\n",
    "# for gdf in gdfs:\n",
    "#     bounds = do_something(gdf)\n",
    "#     site_name = gdf.NAME\n",
    "#     bounds_dict[site_name] = bounds\n",
    "site_list = [{'name': 'Site 1', 'value': 1},\n",
    "           {'name': 'Site 2', 'value': 2}]\n",
    "results_dict = {}\n",
    "for site_dict in site_list:\n",
    "    site_name = site_dict['name']\n",
    "    print(site_name)\n",
    "    squared_value = site_dict['value'] ** 2\n",
    "    print(squared_value)\n",
    "    results_dict[site_name] = squared_value\n",
    "results_dict"
   ]
  },
  {
   "cell_type": "code",
   "execution_count": 8,
   "metadata": {},
   "outputs": [
    {
     "name": "stdout",
     "output_type": "stream",
     "text": [
      "Site 1\n",
      "Site 2\n"
     ]
    }
   ],
   "source": [
    "# We need the .items() below to go through the values of the dict\n",
    "for i in results_dict:\n",
    "    print(i)"
   ]
  },
  {
   "cell_type": "code",
   "execution_count": 9,
   "metadata": {},
   "outputs": [
    {
     "name": "stdout",
     "output_type": "stream",
     "text": [
      "Site 1\n",
      "1\n",
      "Site 2\n",
      "4\n"
     ]
    },
    {
     "data": {
      "text/plain": [
       "{'Site 1': 5, 'Site 2': 8}"
      ]
     },
     "execution_count": 9,
     "metadata": {},
     "output_type": "execute_result"
    }
   ],
   "source": [
    "results_step2_dict = {}\n",
    "for site_name, squared_value in results_dict.items():\n",
    "    print(site_name)\n",
    "    print(squared_value)\n",
    "    results_step2_dict[site_name] = squared_value + 4\n",
    "results_step2_dict"
   ]
  },
  {
   "cell_type": "code",
   "execution_count": 10,
   "metadata": {},
   "outputs": [
    {
     "name": "stdout",
     "output_type": "stream",
     "text": [
      "site 1\n"
     ]
    },
    {
     "ename": "KeyError",
     "evalue": "'site 1'",
     "output_type": "error",
     "traceback": [
      "\u001b[1;31m---------------------------------------------------------------------------\u001b[0m",
      "\u001b[1;31mKeyError\u001b[0m                                  Traceback (most recent call last)",
      "Cell \u001b[1;32mIn[10], line 5\u001b[0m\n\u001b[0;32m      3\u001b[0m \u001b[38;5;28;01mfor\u001b[39;00m site \u001b[38;5;129;01min\u001b[39;00m sites:\n\u001b[0;32m      4\u001b[0m     \u001b[38;5;28mprint\u001b[39m(site)\n\u001b[1;32m----> 5\u001b[0m     \u001b[38;5;28mprint\u001b[39m(\u001b[43mresults_step2_dict\u001b[49m\u001b[43m[\u001b[49m\u001b[43msite\u001b[49m\u001b[43m]\u001b[49m)\n\u001b[0;32m      6\u001b[0m     results_step3_dict[site] \u001b[38;5;241m=\u001b[39m results_step2_dict[site] \u001b[38;5;241m/\u001b[39m \u001b[38;5;241m3\u001b[39m\n\u001b[0;32m      7\u001b[0m results_step3_dict\n",
      "\u001b[1;31mKeyError\u001b[0m: 'site 1'"
     ]
    }
   ],
   "source": [
    "sites = ['site 1', 'site 2']\n",
    "results_step3_dict = {}\n",
    "for site in sites:\n",
    "    print(site)\n",
    "    print(results_step2_dict[site])\n",
    "    results_step3_dict[site] = results_step2_dict[site] / 3\n",
    "results_step3_dict"
   ]
  }
 ],
 "metadata": {
  "kernelspec": {
   "display_name": "earth-analytics-python",
   "language": "python",
   "name": "python3"
  },
  "language_info": {
   "codemirror_mode": {
    "name": "ipython",
    "version": 3
   },
   "file_extension": ".py",
   "mimetype": "text/x-python",
   "name": "python",
   "nbconvert_exporter": "python",
   "pygments_lexer": "ipython3",
   "version": "3.11.10"
  }
 },
 "nbformat": 4,
 "nbformat_minor": 2
}
