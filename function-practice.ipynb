{
 "cells": [
  {
   "cell_type": "code",
   "execution_count": 7,
   "metadata": {},
   "outputs": [
    {
     "name": "stdout",
     "output_type": "stream",
     "text": [
      "louie Hello from a function roberts\n"
     ]
    }
   ],
   "source": [
    "def my_function(fname, lname):\n",
    "    print(fname, 'Hello from a function', lname)\n",
    "\n",
    "my_function('louie', 'roberts')"
   ]
  },
  {
   "cell_type": "code",
   "execution_count": 8,
   "metadata": {},
   "outputs": [
    {
     "name": "stdout",
     "output_type": "stream",
     "text": [
      "the younges thild is louie\n"
     ]
    }
   ],
   "source": [
    "def kid_functions(*kids):\n",
    "    print('the younges thild is '+ kids[-1])\n",
    "\n",
    "kid_functions(\"emma\", \"knox\", \"louie\")"
   ]
  },
  {
   "cell_type": "code",
   "execution_count": 9,
   "metadata": {},
   "outputs": [
    {
     "name": "stdout",
     "output_type": "stream",
     "text": [
      "the younges thild is louie\n"
     ]
    }
   ],
   "source": [
    "def kid_functions_2(child3, child2, child1):\n",
    "    print('the younges thild is ' + child3)\n",
    "\n",
    "kid_functions_2(child1='emma', child2='knox', child3='louie')"
   ]
  },
  {
   "cell_type": "code",
   "execution_count": 10,
   "metadata": {},
   "outputs": [
    {
     "name": "stdout",
     "output_type": "stream",
     "text": [
      "His last name is Refsnes\n"
     ]
    }
   ],
   "source": [
    "def kid_functions_3(**kid):\n",
    "    print('His last name is ' + kid['lname'])\n",
    "\n",
    "kid_functions_3(fname = 'Tobias', lname = 'Refsnes')"
   ]
  },
  {
   "cell_type": "code",
   "execution_count": 15,
   "metadata": {},
   "outputs": [],
   "source": [
    "def add_function(integer):\n",
    "    for x in integer:\n",
    "        sum = x + 10\n",
    "    return sum"
   ]
  },
  {
   "cell_type": "code",
   "execution_count": 23,
   "metadata": {},
   "outputs": [
    {
     "data": {
      "text/plain": [
       "22"
      ]
     },
     "execution_count": 23,
     "metadata": {},
     "output_type": "execute_result"
    }
   ],
   "source": [
    "add_function([12])"
   ]
  },
  {
   "cell_type": "code",
   "execution_count": 18,
   "metadata": {},
   "outputs": [
    {
     "name": "stdout",
     "output_type": "stream",
     "text": [
      "12\n"
     ]
    }
   ],
   "source": [
    "add_function([1, 2])"
   ]
  },
  {
   "cell_type": "code",
   "execution_count": 20,
   "metadata": {},
   "outputs": [
    {
     "data": {
      "text/plain": [
       "12"
      ]
     },
     "execution_count": 20,
     "metadata": {},
     "output_type": "execute_result"
    }
   ],
   "source": [
    "integer_list = [1, 2]\n",
    "\n",
    "add_function(integer_list)"
   ]
  },
  {
   "cell_type": "code",
   "execution_count": 24,
   "metadata": {},
   "outputs": [
    {
     "data": {
      "text/plain": [
       "[11, 12]"
      ]
     },
     "execution_count": 24,
     "metadata": {},
     "output_type": "execute_result"
    }
   ],
   "source": [
    "results_list = []\n",
    "for i in integer_list:\n",
    "    sums = add_function([i])\n",
    "    results_list.append(sums)\n",
    "\n",
    "results_list"
   ]
  },
  {
   "cell_type": "markdown",
   "metadata": {},
   "source": [
    "### Tried to do a loop and function to process all the grassland climate data at once:"
   ]
  },
  {
   "cell_type": "code",
   "execution_count": null,
   "metadata": {},
   "outputs": [],
   "source": [
    "results_list = []\n",
    "rcp_list = [45, 85]\n",
    "row_list = [0, 1, 2, 3]\n",
    "for rcp in rcp_list:\n",
    "    print(rcp)\n",
    "    for row in row_list:\n",
    "        print(row)\n",
    "        grassland_rcp_annual_precip_da = process_climate_da(rcp, maca_df, row)\n",
    "        print(grassland_rcp_annual_precip_da)\n",
    "        results_list.append(grassland_rcp_annual_precip_da)\n",
    "\n",
    "results_list"
   ]
  }
 ],
 "metadata": {
  "kernelspec": {
   "display_name": "earth-analytics-python",
   "language": "python",
   "name": "python3"
  },
  "language_info": {
   "codemirror_mode": {
    "name": "ipython",
    "version": 3
   },
   "file_extension": ".py",
   "mimetype": "text/x-python",
   "name": "python",
   "nbconvert_exporter": "python",
   "pygments_lexer": "ipython3",
   "version": "3.11.10"
  }
 },
 "nbformat": 4,
 "nbformat_minor": 2
}
